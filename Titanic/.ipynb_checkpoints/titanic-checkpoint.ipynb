{
 "cells": [
  {
   "cell_type": "code",
   "execution_count": 1,
   "metadata": {
    "_cell_guid": "f5ae6d0f-0e04-4f63-b98f-06078a21ffb5",
    "_execution_state": "idle",
    "_uuid": "57c95e8621de0b2063cc5efa01617fec1cda073f",
    "collapsed": true
   },
   "outputs": [],
   "source": [
    "# This Python 3 environment comes with many helpful analytics libraries installed\n",
    "# It is defined by the kaggle/python docker image: https://github.com/kaggle/docker-python\n",
    "# For example, here's several helpful packages to load in \n",
    "\n",
    "import numpy as np # linear algebra\n",
    "import pandas as pd # data processing, CSV file I/O (e.g. pd.read_csv)\n",
    "\n",
    "# Input data files are available in the \"../input/\" directory.\n",
    "# For example, running this (by clicking run or pressing Shift+Enter) will list the files in the input directory\n",
    "from sklearn import tree\n",
    "from subprocess import check_output\n",
    "#print(check_output([\"ls\", \"../input\"]).decode(\"utf8\"))\n",
    "\n",
    "# Any results you write to the current directory are saved as output."
   ]
  },
  {
   "cell_type": "code",
   "execution_count": 4,
   "metadata": {
    "_cell_guid": "a502e332-4da1-42b9-9086-140b446bad5d",
    "_uuid": "21daee7635e75245d154cd69adcad6b7c543f2ac"
   },
   "outputs": [
    {
     "data": {
      "text/plain": [
       "418"
      ]
     },
     "metadata": {},
     "output_type": "display_data"
    },
    {
     "data": {
      "text/plain": [
       "418"
      ]
     },
     "metadata": {},
     "output_type": "display_data"
    }
   ],
   "source": [
    "from IPython.display import display\n",
    "%matplotlib inline\n",
    "in_file = './train.csv'\n",
    "full_data = pd.read_csv(in_file)\n",
    "test = pd.read_csv('./test.csv')\n",
    "outcomes = full_data['Survived']\n",
    "test_labels = pd.read_csv('./gender_submission.csv')\n",
    "test_outcomes = test_labels['Survived']\n",
    "#drop the survived item\n",
    "data = full_data.drop('Survived', axis = 1)\n",
    "#display(full_data.head())\n",
    "#display(data.head())\n",
    "display(len(test))\n",
    "display(len(test_outcomes))"
   ]
  },
  {
   "cell_type": "code",
   "execution_count": 6,
   "metadata": {
    "_cell_guid": "ced8c888-4ec9-4e17-a537-0c4a0f41761a",
    "_uuid": "23a31607312475a4aea8cb16d558f3cf2985fbad",
    "collapsed": true
   },
   "outputs": [],
   "source": [
    "def accuracy_score(truth, pred):\n",
    "    if len(truth) == len(pred): \n",
    "        return \"Predictions have an accuracy of {:.2f}%.\".format((truth == pred).mean()*100)\n",
    "    else:\n",
    "        return \"Number of predictions does not match number of outcomes!\"\n",
    "\n",
    "#predictions = pd.Series(np.ones(5, dtype = int))\n",
    "#accuracy_score(outcomes[:5], predictions)"
   ]
  },
  {
   "cell_type": "code",
   "execution_count": 8,
   "metadata": {
    "_cell_guid": "cf7758d7-fe2f-4138-b522-a35a6f4cf8da",
    "_uuid": "d1ad817819f8f3bee857f5500a5df2f1a2a7cd2c"
   },
   "outputs": [
    {
     "data": {
      "text/plain": [
       "'Predictions have an accuracy of 95.45%.'"
      ]
     },
     "execution_count": 8,
     "metadata": {},
     "output_type": "execute_result"
    }
   ],
   "source": [
    "def predictions(data):\n",
    "    predictions = []\n",
    "    for _, passenger in data.iterrows():\n",
    "        if passenger['Sex'] == 'female':\n",
    "            if passenger['Parch'] >= 4:\n",
    "                predictions.append(0)\n",
    "            else:\n",
    "                if passenger['SibSp'] >= 3:\n",
    "                    predictions.append(0)\n",
    "                else:\n",
    "                    if passenger['Pclass'] > 2 and passenger['Age'] > 30:\n",
    "                        predictions.append(0)\n",
    "                    else:\n",
    "                        predictions.append(1)\n",
    "        else:\n",
    "            if passenger['Age'] < 10 and passenger['Pclass'] < 3:\n",
    "                predictions.append(1)\n",
    "            else:\n",
    "#                 if passenger['Age'] > 20 and passenger['Age'] < 30 and passenger['Parch'] == 1 and passenger['Pclass'] == 3:\n",
    "#                     predictions.append(1);\n",
    "#                 else:\n",
    "                predictions.append(0)\n",
    "    return pd.Series(predictions)\n",
    "\n",
    "predictions = predictions(test)\n",
    "#accuracy_score(test_outcomes, predictions)\n",
    "\n",
    "# output = pd.DataFrame()\n",
    "# output['PassengerId'] = test['PassengerId']\n",
    "# output['Survived'] = predictions\n",
    "# output[['PassengerId','Survived']].to_csv('../output/output.csv',index=False)\n",
    "\n",
    "\n",
    "submission = pd.DataFrame({\n",
    "        \"PassengerId\": test['PassengerId'],\n",
    "        \"Survived\": predictions\n",
    "    })\n",
    "submission.to_csv('./output.csv', index=False)\n",
    "\n",
    "accuracy_score(test_outcomes, predictions)"
   ]
  }
 ],
 "metadata": {
  "kernelspec": {
   "display_name": "Python [conda env:learn]",
   "language": "python",
   "name": "conda-env-learn-py"
  },
  "language_info": {
   "codemirror_mode": {
    "name": "ipython",
    "version": 3
   },
   "file_extension": ".py",
   "mimetype": "text/x-python",
   "name": "python",
   "nbconvert_exporter": "python",
   "pygments_lexer": "ipython3",
   "version": "3.5.2"
  }
 },
 "nbformat": 4,
 "nbformat_minor": 1
}
